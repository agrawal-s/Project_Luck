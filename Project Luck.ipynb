{
 "cells": [
  {
   "cell_type": "code",
   "execution_count": 1,
   "metadata": {},
   "outputs": [],
   "source": [
    "## load modules\n",
    "import matplotlib.pyplot as plt\n",
    "import os, time  \n",
    "import numpy as np \n",
    "from tensorflow.keras.preprocessing.image import load_img\n",
    "from tensorflow.keras.preprocessing.image import img_to_array\n",
    "\n",
    "import tensorflow as tf  "
   ]
  },
  {
   "cell_type": "code",
   "execution_count": 34,
   "metadata": {},
   "outputs": [],
   "source": [
    "\n",
    "class Applicant:\n",
    "    '''\n",
    "    Class applicant:\n",
    "    \n",
    "    attributes:\n",
    "    \n",
    "    skills: 95% of the total criteris\n",
    "    luck: 5% of the total criteria\n",
    "    overall: .95*(skills) + 0.05*(luck)\n",
    "    \n",
    "    \n",
    "    '''\n",
    "\n",
    "    def __init__(self, id = None, skills=None, luck=None):\n",
    "        '''\n",
    "        Constructor\n",
    "        '''\n",
    "        self.id = id\n",
    "        self.skills = skills\n",
    "        self.luck = luck\n",
    "        self.overall =  0.95*(self.skills) + 0.05*(self.luck)\n",
    "\n",
    "    def get_id(self):\n",
    "        return self.id\n",
    "\n",
    "    def get_skills(self):\n",
    "        return self.skills\n",
    "\n",
    "    def get_luck(self):\n",
    "        return self.luck\n",
    "\n",
    "    def get_overall(self):\n",
    "        return self.overall\n",
    "\n",
    "\n",
    "    def set_id(self, value):\n",
    "        self.__id = value\n",
    "\n",
    "    def set_skills(self, value):\n",
    "        self.skills = value\n",
    "\n",
    "    def set_luck(self, value):\n",
    "        self.luck = value\n",
    "\n",
    "    def set_overall(self, value):\n",
    "        self.overall = value\n",
    "        \n",
    "    \n"
   ]
  },
  {
   "cell_type": "code",
   "execution_count": 40,
   "metadata": {},
   "outputs": [],
   "source": [
    "a1 = Applicant(1,85,90)\n"
   ]
  },
  {
   "cell_type": "code",
   "execution_count": 41,
   "metadata": {},
   "outputs": [
    {
     "name": "stdout",
     "output_type": "stream",
     "text": [
      "85.25\n"
     ]
    }
   ],
   "source": [
    "print(a1.get_overall())"
   ]
  },
  {
   "cell_type": "code",
   "execution_count": null,
   "metadata": {},
   "outputs": [],
   "source": [
    "import numpy as np\n",
    "from scipy.stats import truncnorm\n",
    "import matplotlib.pyplot as plt\n",
    "\n",
    "scale = 3.\n",
    "range = 10\n",
    "size = 100000\n",
    "\n",
    "X = truncnorm(a=-range/scale, b=+range/scale, scale=scale).rvs(size=size)\n",
    "X = X.round().astype(int)"
   ]
  },
  {
   "cell_type": "code",
   "execution_count": null,
   "metadata": {},
   "outputs": [],
   "source": [
    "luck = get_random_luck()"
   ]
  },
  {
   "cell_type": "code",
   "execution_count": 3,
   "metadata": {},
   "outputs": [],
   "source": [
    "def get_random_luck():\n",
    "    \n",
    "    \"\"\"\n",
    "    Function to generate random luck factor as integer in range 0-100\n",
    "    \n",
    "    \"\"\"\n",
    "    return np.random.randint(0, high=101, size=None, dtype='l')"
   ]
  },
  {
   "cell_type": "code",
   "execution_count": 32,
   "metadata": {},
   "outputs": [],
   "source": [
    "def get_random_skill():\n",
    "    \"\"\"\n",
    "    \n",
    "    Function to generate random skill factor in range 0-100\n",
    "    \n",
    "    \"\"\"\n",
    "    \n",
    "    import matplotlib.pyplot as plt\n",
    "    import scipy.stats as stats\n",
    "    \n",
    "    lower, upper = 0, 100\n",
    "    mu, sigma = 75, 10\n",
    "    X = stats.truncnorm(\n",
    "        (lower - mu) / sigma, (upper - mu) / sigma, loc=mu, scale=sigma)\n",
    "    return round(X.rvs(1)[0])\n",
    "    "
   ]
  },
  {
   "cell_type": "code",
   "execution_count": 30,
   "metadata": {},
   "outputs": [
    {
     "data": {
      "text/plain": [
       "92"
      ]
     },
     "execution_count": 30,
     "metadata": {},
     "output_type": "execute_result"
    }
   ],
   "source": [
    "get_random_skill()"
   ]
  },
  {
   "cell_type": "code",
   "execution_count": null,
   "metadata": {},
   "outputs": [],
   "source": [
    "plt.hist(X)"
   ]
  },
  {
   "cell_type": "code",
   "execution_count": 7,
   "metadata": {},
   "outputs": [
    {
     "data": {
      "text/plain": [
       "(array([1003.,  978., 1010., 1022.,  982., 1002.,  943.,  971.,  999.,\n",
       "        1090.]),\n",
       " array([  0.,  10.,  20.,  30.,  40.,  50.,  60.,  70.,  80.,  90., 100.]),\n",
       " <BarContainer object of 10 artists>)"
      ]
     },
     "execution_count": 7,
     "metadata": {},
     "output_type": "execute_result"
    },
    {
     "data": {
      "image/png": "[encoded data removed]",
      "text/plain": [
       "<Figure size 432x288 with 1 Axes>"
      ]
     },
     "metadata": {
      "needs_background": "light"
     },
     "output_type": "display_data"
    }
   ],
   "source": [
    "luck_list = []\n",
    "\n",
    "for i in range(10000):\n",
    "    \n",
    "    luck_list.append(get_random_luck())\n",
    "    \n",
    "    \n",
    "plt.hist(luck_list)"
   ]
  },
  {
   "cell_type": "code",
   "execution_count": 33,
   "metadata": {},
   "outputs": [
    {
     "data": {
      "text/plain": [
       "(array([   7.,   47.,  239.,  683., 1359., 2536., 2248., 1859.,  758.,\n",
       "         264.]),\n",
       " array([ 36. ,  42.4,  48.8,  55.2,  61.6,  68. ,  74.4,  80.8,  87.2,\n",
       "         93.6, 100. ]),\n",
       " <BarContainer object of 10 artists>)"
      ]
     },
     "execution_count": 33,
     "metadata": {},
     "output_type": "execute_result"
    },
    {
     "data": {
      "image/png": "[encoded data removed]",
      "text/plain": [
       "<Figure size 432x288 with 1 Axes>"
      ]
     },
     "metadata": {
      "needs_background": "light"
     },
     "output_type": "display_data"
    }
   ],
   "source": [
    "skill_list = []\n",
    "for i in range(10000):\n",
    "    \n",
    "    skill_list.append(get_random_skill())\n",
    "    \n",
    "    \n",
    "plt.hist(skill_list)\n"
   ]
  },
  {
   "cell_type": "code",
   "execution_count": 57,
   "metadata": {},
   "outputs": [],
   "source": [
    "applicant_list = []\n",
    "\n",
    "for i in range(10000):\n",
    "    app = Applicant(i,get_random_skill(),get_random_luck())\n",
    "    applicant_list.append(app)"
   ]
  },
  {
   "cell_type": "code",
   "execution_count": 51,
   "metadata": {},
   "outputs": [
    {
     "name": "stdout",
     "output_type": "stream",
     "text": [
      "68.95\n",
      "81.05\n",
      "67.1\n",
      "63.85\n",
      "90.39999999999999\n",
      "70.6\n",
      "70.5\n",
      "74.85\n",
      "62.949999999999996\n",
      "65.75\n"
     ]
    }
   ],
   "source": [
    "for i in range(len(applicant_list)):\n",
    "    print(applicant_list[i].get_overall())"
   ]
  },
  {
   "cell_type": "code",
   "execution_count": 58,
   "metadata": {},
   "outputs": [],
   "source": [
    "applicant_list.sort(key=lambda x: x.overall, reverse=True)"
   ]
  },
  {
   "cell_type": "code",
   "execution_count": 53,
   "metadata": {},
   "outputs": [
    {
     "data": {
      "text/plain": [
       "[<__main__.Applicant at 0x1d0018bbf08>,\n",
       " <__main__.Applicant at 0x1d0018ab808>,\n",
       " <__main__.Applicant at 0x1d0018bbe88>,\n",
       " <__main__.Applicant at 0x1d0018bbe08>,\n",
       " <__main__.Applicant at 0x1d0018bbfc8>,\n",
       " <__main__.Applicant at 0x1d0018a14c8>,\n",
       " <__main__.Applicant at 0x1d0018bba48>,\n",
       " <__main__.Applicant at 0x1d0018bbc08>,\n",
       " <__main__.Applicant at 0x1d0018bbc88>,\n",
       " <__main__.Applicant at 0x1d0018b4988>]"
      ]
     },
     "execution_count": 53,
     "metadata": {},
     "output_type": "execute_result"
    }
   ],
   "source": [
    "applicant_list"
   ]
  },
  {
   "cell_type": "code",
   "execution_count": null,
   "metadata": {},
   "outputs": [],
   "source": [
    "mean_list = []\n",
    "for i in range(1000):\n",
    "    applicant_list = []\n",
    "    \n",
    "    for i in range(10000):\n",
    "        app = Applicant(i,get_random_skill(),get_random_luck())\n",
    "        applicant_list.append(app)\n",
    "    luck_list = []\n",
    "    for i in range(10):\n",
    "        luck_list.append(applicant_list[i].get_luck())\n",
    "        #print('id: ',applicant_list[i].get_id(),', skills: ',applicant_list[i].get_skills() ,', luck: ', applicant_list[i].get_luck(), 'Overall:', applicant_list[i].get_overall() )\n",
    "        \n",
    "    mean_list.append(np.asarray(luck_list).mean())"
   ]
  },
  {
   "cell_type": "code",
   "execution_count": null,
   "metadata": {},
   "outputs": [],
   "source": [
    "mean_list"
   ]
  }
 ],
 "metadata": {
  "kernelspec": {
   "display_name": "Python 3",
   "language": "python",
   "name": "python3"
  },
  "language_info": {
   "codemirror_mode": {
    "name": "ipython",
    "version": 3
   },
   "file_extension": ".py",
   "mimetype": "text/x-python",
   "name": "python",
   "nbconvert_exporter": "python",
   "pygments_lexer": "ipython3",
   "version": "3.7.9"
  }
 },
 "nbformat": 4,
 "nbformat_minor": 4
}
